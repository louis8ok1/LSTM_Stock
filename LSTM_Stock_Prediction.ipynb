{
  "nbformat": 4,
  "nbformat_minor": 0,
  "metadata": {
    "colab": {
      "name": "LSTM_Stock_Prediction",
      "provenance": [],
      "authorship_tag": "ABX9TyO2EIQeIyIzAgOWSb8MRz1r",
      "include_colab_link": true
    },
    "kernelspec": {
      "name": "python3",
      "display_name": "Python 3"
    }
  },
  "cells": [
    {
      "cell_type": "markdown",
      "metadata": {
        "id": "view-in-github",
        "colab_type": "text"
      },
      "source": [
        "<a href=\"https://colab.research.google.com/github/louis8ok1/LSTM_Stock/blob/master/LSTM_Stock_Prediction.ipynb\" target=\"_parent\"><img src=\"https://colab.research.google.com/assets/colab-badge.svg\" alt=\"Open In Colab\"/></a>"
      ]
    },
    {
      "cell_type": "markdown",
      "metadata": {
        "id": "jcnSXDNcfqPq",
        "colab_type": "text"
      },
      "source": [
        "Data_preprocessing"
      ]
    },
    {
      "cell_type": "code",
      "metadata": {
        "id": "JQQDbVJ2fPv7",
        "colab_type": "code",
        "colab": {}
      },
      "source": [
        "import numpy as np\n",
        "import matplotlib.pyplot as plt\n",
        "import pandas as pd\n",
        "\n",
        "data"
      ],
      "execution_count": null,
      "outputs": []
    }
  ]
}