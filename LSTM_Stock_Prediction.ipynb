{
  "nbformat": 4,
  "nbformat_minor": 0,
  "metadata": {
    "colab": {
      "name": "LSTM_Stock_Prediction",
      "provenance": [],
      "authorship_tag": "ABX9TyOps9/s5ZaMHwBsqm3lLyJt",
      "include_colab_link": true
    },
    "kernelspec": {
      "name": "python3",
      "display_name": "Python 3"
    }
  },
  "cells": [
    {
      "cell_type": "markdown",
      "metadata": {
        "id": "view-in-github",
        "colab_type": "text"
      },
      "source": [
        "<a href=\"https://colab.research.google.com/github/louis8ok1/LSTM_Stock/blob/master/LSTM_Stock_Prediction.ipynb\" target=\"_parent\"><img src=\"https://colab.research.google.com/assets/colab-badge.svg\" alt=\"Open In Colab\"/></a>"
      ]
    },
    {
      "cell_type": "markdown",
      "metadata": {
        "id": "jcnSXDNcfqPq",
        "colab_type": "text"
      },
      "source": [
        "### Part1: Data_Preprocessing"
      ]
    },
    {
      "cell_type": "code",
      "metadata": {
        "id": "6tg-9IAnFGyp",
        "colab_type": "code",
        "colab": {
          "resources": {
            "http://localhost:8080/nbextensions/google.colab/files.js": {
              "data": "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",
              "ok": true,
              "headers": [
                [
                  "content-type",
                  "application/javascript"
                ]
              ],
              "status": 200,
              "status_text": ""
            }
          },
          "base_uri": "https://localhost:8080/",
          "height": 75
        },
        "outputId": "2d909053-5ff1-414a-ae4d-517903f4dc03"
      },
      "source": [
        "\"\"\"\n",
        "#上傳檔案\n",
        "from google.colab import files\n",
        "\n",
        "uploaded = files.upload()\n",
        "\"\"\""
      ],
      "execution_count": 7,
      "outputs": [
        {
          "output_type": "display_data",
          "data": {
            "text/html": [
              "\n",
              "     <input type=\"file\" id=\"files-3f984ca5-6df6-495a-a403-95e015c699b3\" name=\"files[]\" multiple disabled\n",
              "        style=\"border:none\" />\n",
              "     <output id=\"result-3f984ca5-6df6-495a-a403-95e015c699b3\">\n",
              "      Upload widget is only available when the cell has been executed in the\n",
              "      current browser session. Please rerun this cell to enable.\n",
              "      </output>\n",
              "      <script src=\"/nbextensions/google.colab/files.js\"></script> "
            ],
            "text/plain": [
              "<IPython.core.display.HTML object>"
            ]
          },
          "metadata": {
            "tags": []
          }
        },
        {
          "output_type": "stream",
          "text": [
            "Saving TSMC_Stock_Test_data.csv to TSMC_Stock_Test_data.csv\n"
          ],
          "name": "stdout"
        }
      ]
    },
    {
      "cell_type": "markdown",
      "metadata": {
        "id": "Zk3IdeTxLN8L",
        "colab_type": "text"
      },
      "source": [
        "Normalization\n",
        "\n",
        "![擷取.PNG](data:image/png;base64,iVBORw0KGgoAAAANSUhEUgAAAM4AAABCCAYAAAAfbelnAAAAAXNSR0IArs4c6QAAAARnQU1BAACxjwv8YQUAAAAJcEhZcwAAEnQAABJ0Ad5mH3gAABJJSURBVHhe7Zx3WFRXGofzZ541m40lu9kYNxYUFQIollg2xtgCWKKIsWFBQBG72BONidFsNHZEEAuogDGxgDRFYw2yCEovSlFgKAJDCTOAM3n3zjAqKiYyi0TJeZ/n/sHlzJ25557f+cr9znkFgUBQb4RwBAI9EMIRCPRACEcg0AMhHIFAD4RwBAI9EMIRCPRACEcg0AMhHIFAD4RwBAI9EMIRCPRACEcg0AMhHIFAD4RwBAI9EMIRCPRACEcg0AMhHIFAD4RwBAI9EMIRCPRACEcg0AMhHMGTqEuJ9d2Bz9VsipS/6k7+FmryT3uwKzCWnNJqnuUTLztCOE0RdQlRh9bz9YFL3JEr6zmQFcTvc2Lycj+is8tR6c7+LookvOZMwsU7gjul93Qnmy5COE0RVSp7bXtgOnYTVzLk1GcYK69vYeyQOXhHZ1Ou1p18RlSpHtgOmYHrpXTkTVw7QjhNFbVacqDq6TSpczk6ux8jVgeTkl+ph8tVQqDLQD5eepR4maJJu2xCOHqhpiQ5jKDwDOQVNVNrWcppDh0+S3JRRb1m+N9DkRvLGZ8AIgvkyOJD8XZzx+9CCkWKe/xaJePaCU92uPpyKU2O8oFfVY08/Sr+oVHkl9a4asr8eML8/InIlVOYeZXj+9zwCokl/5eqBwNcLTvEjB6DcDmWSO7jsY3k/qWcCyY8vZhftDdYTmqYD75hiRSWV2ubaPql8Edn+gyYy+GYHH5pwsoRwqk3auThO5g9zIg3O9iyPz6X3Gu7cBozCHNze7wScuvt4jwN1c0fWWphSPPXTBjhOBlbB0fsrLrxdotOjFm6hsXOs5k105ZBXd6kVfd5/JiUj/LXahL8FvFxp+b8deCX/JxRTFXacZZbdqbFa8ZYzpCu4zgTuxHdead5O6y3X5VikhrFVYS40Le3PZ43siirPegl0UTsmoelyd8xmOTB9SwZ0e5zsRlijvmMfSRnleoaSk3T9jCp+3BWB6dQUKU72QQRwqk3ZcRciSQ704dZPbsz9dstLJi/kwtpRSgbSDC1UQQupEe7D1gYkERBpTSaq6PZaGVIB4t1nJdm/2rpVMW5VQww6M+CEynkay2FgqBFvTAYsU4rHI0sNNfp1WEAi+5fR4qD3MYb0XXCDqLvlEpWR02G5yTMhi7HPzkfTZMHlMcSfi2bDN859O05hfWbFrDA9SdSCxTSpx6jIpBFffoxa98NssprX6RpIYSjN0WcmNcDg/ds2PpzNs8rkaQMXUJvg5Gsv5pJsUYB6kL8HEwxmrCd69oBL5265c544544HIgnR+sfKQld2oeOIx8KRxm6lD4dR7Lu54ya60htghb3puOo9URIbdRSq6SdYzEZvobTqXclZ68OigMkUXTGxHoTFzLldbepCmPlgN5M3xXN7VIhHMETVBO3ZSSdjG3xjJP9jj+vIsN/PbOnjmP06NGPHdY477qCTF63X/OEcCjm6EyzR4WTsYeJ79VfOCEu79cSjsbiTK7b4tynOp7tY4wwmbxbslJlT1obDRqL01dYHMFTUMbvZ83q2QxuY4Td/nhkzykSbjzhPIxx9jwe42hRkuj9JV84D+Hd96az57rUpg7lqNM9mdzdis+Dk8kXMY6gBgUZkeFcu3yAJU7rCUqJYc9UU0zGbsTf7ztc/aWAuKxhfTalJsZpb8mXVzIo0gx4dQG+9iYY2myWZv0SrXBUN90YZ9SN6ftiydbO8pIbpolxLL/gUnpRjXCCF0sCtGLt5fSa60j3cmphTwyGf8kVXZv7WbXFP9bKqikyiboaxWWvZcxZf4qEaE+pjRljNxzDZ/Mu/JNyKXlwy2qKjs+l74fzRFZNUIvKs6zo+y7/aG/FhjOZyKukgRK0mL5t38Zw7BYuZpXW7ffrhZqcCx4stjSkRbPmGFt/S0h6PKG75zGkQ3OavdkNm2+CSL8ewDbHD3jn9Wa07jeDbWdiOOO5glFdW9KseWcsFu4h8uR2VozsQstmLTAe9TlH4tK5cnhlTZtWJoz+8jgpRRWo1bl879SX4Z8FPniPU3l+NR8a/JN2FusITiuiUl1MyLIBGLxjyOiN58iQXMyH+igheKl4jyOoA0X+HXJLK7n3wE2pouiunMp7qiYxUJTRm7Ee7IxX9H1XTEFBVh6lyuqHMU1VMXfllVSrHr1j1U1Ppgy1Z5eoHGgY1PI4Ag8f4VzyXYrjznM5vQzde0PBC4eCuL2zmLzCj+v1qVVTJnNwni3LDv1X1Ko1FIGr7bD9dCDGbd+hjekMDiYWUFFHYCl4QVCXEufniu9/c565OrogbC/uIfHIykR1dIMhyymkSnJlUMgpqVDxmIUXCF46Gi/GUctJOn2K8NulupqqMpJDvKksL9H+WyB4mWgc4UiiubJ1JoO7tKTDVG+S8/OI3OnIJx91JyrzdoMWRQoEjUEjCEeN/MoW7Ad2pkWHqXgn55MXuROHkR9i1s2eQylSvPO466aWEbJpLnYTx2FjY/PkMX4+HhF5lD4l9ztmzBheffVVXnnlFXE0waNLly4kJibqnvYfQyMIp5To81fJyjyEvZkJUzdtZ8HcnVzKlNdd1tEAWFtbC+E04aNr164kJSXpnvYfQ+PFOBRxzMmUdsafsiMil/Lf9M+qkGfdJDkxgYSEOo7EW9rszYueZFCXxuCz7TARsmecJNT5hO7eSVC8pn+aUAZFs4eBn2YPgywKnylLp+mKM+xxCyQmu1RbAf6i0YjCqSZmkwXtu07hQFL+k+5ZbVTZ+K+dxtjhwxg6dOiTh8V0tl2WUfIi10Ip4vCcOZHl399A9sszvw1Bkbgfp/EuHLqWQwNX7+iPdg+DDaw/cJHbxXrsYbDfGdsVvlzLKqtHPKsg2Xsuk5d4EX675IWLgxtNOIo4Tz77zIlBrbsy42Ay+b+pnJcdJdGbPmHQnEPEyH55+Mb9mVCR4jaBj+zctBnIF2LAqFLZN7UXptYbuZReXK/fpLy+lXHD5uB17U6dRaG/ifS9e6YMxX7nRdKKXyzpPGfhKMiMDCfqyn4WOX5NyK043CcZYWSzmaDvv2OH/00K6zEbvyyoc4/g2NuKNadvcbdKjwlCfoqF/Yey7Lg0wTyja/Pc0WsPgzx+cO7PyNWBJOm1hwGUBC3hI4slfB+X89teSiPzfIVTGcbSXq15s/0INv6UTVm1mqLABfRq808Mbbbzs6w+pls/FLIYQg/7c62wBFlcCF67dnPkYipyZc2a/cjjHmzf6cvljJJaa/Y1qJCn/oSP2y4On0ulWLPGn0ruRIUR7H+c48dPcCo8DVlSOGeC/LV/B0akU6qsIsd7GmYDl3AyRbOUWXe5+0huT3JYEOEZcl3ZUTkppw/jczaJ4prF/FKbQo7O6sG/5/mRkNuwxZKK3DjO+AYQmV9MTsJpDu52x+988sM9DE5q9jDw4eKtYhQP+qOaEt0eBnmlut+jzCfh7BECpHi1+G4mESf2sdsrhJi8cu7PFWrZYRx6DmbxD/HIFE90BCUp5wgJT6dId9/lqWH4+oaRUFD+oFhWXXSMuX0/ZO7BG2S/QOXWz91V0xZFlj1WFFkgp0r1/IsiValHWTzEgDeamTJqlm3Nmn1LU95q3gnrFWtxme2kXbP/kWFLWpov4ETqXe1AV+VeZKeTLc7f7GbHytEYv22C/cF4yb2spij1HK7TzHnrDVMcfK5zJ+MUSwf3YbSLKwE3ZCiqywla2IueDvuJk9y0R+5RLSd8hzPDjN+kg+0+6f+5RLk5Yz3YHHP7A9ySld9vyK3dn2JitYYztwobrOJadfOYbu8BE4bbT8LWUbeHQctOjF6yutYeBn+nVfe5/JCQh+LXahKPuGBh2ILXP1zL5bQiVKo0jq+wokvL1zC2sGOSrSMz7UbQvU0L2o3Zpo1JNJqrCF1K//ft8YiW3LRHO4KSCDfmW5nwD4NJuEfdQRbtwbxPh9LD3I691+9Qen+8qNPwtDVnxOdBktV6cYLaRkwO/DEoTs3F9F8fsDgolULNVFgdxTfDOtDOYgOXdUFnRdhy+rXrx8IAybWqvEfs9jH0HvcdV27LuVd9g02Wnejt/D2p+TWzrbrkAmuGdMRsigfB7guZt+MCGUU6V0SVjsenxgxZGcTNu4+5J2Ux/ByZTYaPE726T+U/WxYw3/U8twqVT8RBFQHz6dHHCa/431tdWj8UQYvo1eEDFpxMIF+T6qu+zqYRnTH4+CvO3Sqq2cPgp88Y2LE/848lkac1mQqCF/em04ivaoRTcyEW9TZgwMKTJORp7lPFzd0TeM9oPNuv3aZEcu0y9trSbdhyTibmPZZVLCcuPIqsdF/m9u/FlK83smChK+ckC614Ig6qINClH/1neWpXnTZgV/xfNH3hBC/EvN1IvrmWJT1M6YTkBvnYGdF5gqs049c8CNWtXYztbI7jQWmgaB1plTSraj6toij2CPP+/S+6TvcmKa9C9+Akl/PsKgZ2aE9Hy7WcvV0s2VEdqkS2fdIVq7U/kVb0FFtRfJJ5PTvyns0WLt+pO2NUeXopfXtMxz1WcnEbcLQ8WAl6RbegTeqPIzO7YTxhK1HSRKL5KnWaBxNNemK//+HCuNPL+tFpZC3hKE+zrF8nRn51mbRC7RmUwS706TSKdZILW6RWkeQ6DrPhqwlNKXjYP49QTMDifnQxsWbj+QyK6+yuKs6u+pD3p7tyLbPm970I/PmEQxFH7I3oMrGWcNLdGVdbONU5hHt/xXwHJ1Zs3cdKi/aYOdQWjoQqiR2jO/HPLpPZF53LgxyHxuKMf4rFuU91HFtGGmJs60lMTnmdbTQWp+dvWJwNixYw7on9C0ZjPduVy1mSK1znF9chHGnw/uD0mHAyPJlk0guH+gpHc23DUXytFY7G4kx5isW5TzXxO8ZibDoJN8lKPXDPHkFjcfpLFmevsDiNSf2FU8WN74ZjaD4D79g8KYCX4TXFGHPHg7WEo+L20RUs3bQOG6M2mE7bz/Xc+2nnipoYx16KYeoUhZKE/V+wZvZg2hjZsS82hyf3tFCT5j4eE8unxTiab9JvCDWecKSekP6uO8apQZnozVdrnRnS9j2meURxp+5NDLQxzvDPpBgnT8Q4jYY2xnnXknURd5Brnq+6gMPTutJx3DZpYOuEk+rKGENT7LwSyK1QErbsfdp2HSfNgjLK5df4j1UHDMZsJVKKeTTVCsqkvTg5fMf5jALSj86m17vGTHC7Srb2jaVal1Vz4UTtrJoig0jJr798YAlO64NIvrGHaWYmjP32JL6bXbU7yzx44aku4sfZPflgfsNn1ZSaGMfAki8upaEd7+q7+DmY0dnmO6J0rpDq5m7GG3dnuuf9nWqUUozzvuSWruFCWmGNa6kMxuX9jlh9cVGK0WqEowhcRO+Ow1mru/b9rNqio7WzagoyoyKIuuzF8jkbCIiPxtO+J93GrueHw5tx809E9nATA6krTjCv38A/X1btj0NFzk+7WTjMgDf+0lyKJzZx5nYCIa7ODGr7N/7y9+58ujGUzBv+bJ7Rj7f/+hda93dg53kZeRG7mGj2Fq83b0tv6yWsmtqTt1u+g7ndWtxXzcCicyta95Zm0vAsoo7MY+C/XufVN7rwsbM7V3JLUcr8cOxlyechD9/jVJ5bRf+2b9HeagNnMiVXSl1MsBT0tmttiPXmC9wpqbUATB7Ion839HscNbILe3Cx6lyzh8GYbwhOiyN093yGavcwMMNmQyBp1wPYPnMAbf7WjNZ97dh6+gZn9q7kE6NWvNbcEIsFnqTHhnJg5Si6tnqNFkYjWeUXQ9oVH1Z9YkSr11ph8slajiUXStY6j6PO/RjxWYBkLXRua9V51nzUkbfbfcyXQTcprFRTHLqcgR3fodPobwlLl+LFWrdcErKMQRZL/2TvcV5iVGU53EzLpazqHr+qy7SL8Sqra2bW30dJ1KZRfOR8sFblgIL8rFxKK+/p/pbQrd2/90jRnYqb7hMZZL/7xakc+D9QRm/BZqgzB2pVDigKsskrVVL9sCMoLpRL/at5V1YL1S08p32Mg+ufrnLgT4wilj2OE1jxfUy9atWUSV44T1yGT5QU+7zsqtGiIG7fbGxX+BGVVY89DKTJJ+XQfKYsO0jECziBCOE8R9Slsfjs8CWyHtXRpz3cCEnIa3LV0XFHduH33+xnr44uOMs+jxApDv3TV0cLBE0HIRyBQA+EcAQCPRDCEQj0QAhHINADIRyBQA+EcAQCPRDCEQj0QAhHINADIRyBQA+EcASCegP/A67OXXPEEuQ5AAAAAElFTkSuQmCC)"
      ]
    },
    {
      "cell_type": "code",
      "metadata": {
        "id": "JQQDbVJ2fPv7",
        "colab_type": "code",
        "colab": {}
      },
      "source": [
        "import numpy as np\n",
        "import matplotlib.pyplot as plt\n",
        "import pandas as pd\n",
        "\n",
        "#import the training set\n",
        "\n",
        "training_set = pd.read_csv('TSMC_Stock_Train_data.csv')\n",
        "#To convert the Vector form of a single column into a 2d Numpy array\n",
        "training_set = training_set.iloc[:,1:2].values\n",
        "\n",
        "#Using sklearn to normalize the training data between 0 and 1\n",
        "from sklearn.preprocessing import MinMaxScaler\n",
        "\n",
        "normal = MinMaxScaler()\n",
        "\n",
        "training_set = normal.fit_transform(training_set)\n",
        "\n",
        "# Getting the inputs and the ouputs\n",
        "X_train = training_set[0:1299]\n",
        "y_train = training_set[1:1300]\n",
        "\n",
        "# Reshaping \n",
        "\n",
        "X_train = np.reshape(X_train, (1299, 1, 1))\n",
        "\n",
        "\n",
        "\n",
        "\n",
        "\n",
        "\n"
      ],
      "execution_count": 17,
      "outputs": []
    },
    {
      "cell_type": "markdown",
      "metadata": {
        "id": "XuHSrb_iNEuG",
        "colab_type": "text"
      },
      "source": [
        "### Part2: **Training**\n",
        "\n",
        "EX:LSTM(units,input_shape(3,1))的units並不是cell(一個LSTM cell = 一層的LSTM)，而是**每個cell層的output dimension**"
      ]
    },
    {
      "cell_type": "code",
      "metadata": {
        "id": "9T8W7eysNJV5",
        "colab_type": "code",
        "colab": {}
      },
      "source": [
        "#\tThe\tSequential class that will initialise RNN\n",
        "#\tThe\tDense\tclass\tcreate the output\tlayer\tof RNN\n",
        "# The LSTM class make RNN have \"Long Memory\"\n",
        "\n",
        "\n",
        "from keras.models import Sequential\n",
        "from keras.layers import Dense\n",
        "from keras.layers import LSTM\n",
        "\n",
        "#Create the RNN\n",
        "model = Sequential()\n",
        "\n",
        "# Adding the input layer and the LSTM layer\n",
        "#\n",
        "model.add(LSTM(units = 4, activation = 'sigmoid', input_shape = (None, 1)))\n",
        "\n"
      ],
      "execution_count": null,
      "outputs": []
    }
  ]
}